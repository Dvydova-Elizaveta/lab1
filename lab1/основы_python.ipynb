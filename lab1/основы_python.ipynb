{
  "cells": [
    {
      "cell_type": "markdown",
      "metadata": {
        "id": "M-DGa20PaHnu"
      },
      "source": [
        "#Задача 1\n",
        "Написать функцию на вход которой подается строка, состоящая из латинских букв.\n",
        "Функция должна вернуть количество гласных букв (a, e, i, o, u) в этой строке. Написать тесты для кода"
      ]
    },
    {
      "cell_type": "code",
      "execution_count": 1,
      "metadata": {
        "id": "XvX8X_JJ6PCb"
      },
      "outputs": [],
      "source": [
        "# Your code goes here\n",
        "def NumberOfVowels(str):\n",
        "    count = 0\n",
        "    for i in str:\n",
        "        if i in \"aeiouAEIOU\":\n",
        "            count += 1\n",
        "    return count"
      ]
    },
    {
      "cell_type": "code",
      "execution_count": 2,
      "metadata": {},
      "outputs": [
        {
          "name": "stdout",
          "output_type": "stream",
          "text": [
            "True aaa 3\n",
            "True Qdfl 0\n",
            "True Antui 3\n",
            "True qwerTyuIop 4\n",
            "True A a a I 4\n"
          ]
        }
      ],
      "source": [
        "def NumberOfVowels_test(str, n):\n",
        "    if NumberOfVowels(str) == n:\n",
        "        print(True, str, n)\n",
        "    else:\n",
        "        print(False, str) \n",
        "        print(\"Было:\", NumberOfVowels(str))\n",
        "        print(\"Должно быть:\", n)\n",
        "\n",
        "NumberOfVowels_test(\"aaa\", 3)\n",
        "NumberOfVowels_test(\"Qdfl\", 0)\n",
        "NumberOfVowels_test(\"Antui\", 3)\n",
        "NumberOfVowels_test(\"qwerTyuIop\", 4)\n",
        "NumberOfVowels_test(\"A a a I\", 4)"
      ]
    },
    {
      "cell_type": "markdown",
      "metadata": {
        "id": "t2ClV_Y0bbr6"
      },
      "source": [
        "# Задача 2\n",
        "Написать функцию на вход, которой подается строка. Функция должна вернуть true, если\n",
        "каждый символ в строке встречается только 1 раз, иначе должна вернуть false. Написать тесты для кода"
      ]
    },
    {
      "cell_type": "code",
      "execution_count": 3,
      "metadata": {
        "id": "FppbECao6VIz"
      },
      "outputs": [],
      "source": [
        "def checking_for_duplicate(str):\n",
        "    S = list(str)\n",
        "    return(len(S) == len(set(S)))"
      ]
    },
    {
      "cell_type": "code",
      "execution_count": 28,
      "metadata": {},
      "outputs": [
        {
          "name": "stdout",
          "output_type": "stream",
          "text": [
            "Тест пройден: aaa False\n",
            "Тест пройден: Qdfl True\n",
            "Тест пройден: An1tu i True\n",
            "Тест пройден: i I True\n",
            "Тест пройден: A a a I False\n",
            "Тест пройден: 123,./ # True\n"
          ]
        }
      ],
      "source": [
        "def checking_for_duplicate_test(str, bool):\n",
        "    if checking_for_duplicate(str) == bool:\n",
        "        print(\"Тест пройден:\", str, bool)\n",
        "    else:\n",
        "        print(\"Тест не пройден:\", str) \n",
        "        print(\"Было:\", checking_for_duplicate(str))\n",
        "        print(\"Должно быть:\", bool)\n",
        "\n",
        "checking_for_duplicate_test(\"aaa\", False)\n",
        "checking_for_duplicate_test(\"Qdfl\", True)\n",
        "checking_for_duplicate_test(\"An1tu i\", True)\n",
        "checking_for_duplicate_test(\"i I\", True)\n",
        "checking_for_duplicate_test(\"A a a I\", False)\n",
        "checking_for_duplicate_test(\"123,./ #\", True)"
      ]
    },
    {
      "cell_type": "markdown",
      "metadata": {
        "id": "udRiIK1cdt6E"
      },
      "source": [
        "# Задача 3\n",
        "Написать функцию, которая принимает положительное число и возвращает количество\n",
        "бит равных 1 в этом числе. Написать тесты для кода"
      ]
    },
    {
      "cell_type": "code",
      "execution_count": 29,
      "metadata": {
        "id": "6tkfDJRz6dp_"
      },
      "outputs": [],
      "source": [
        "def single_bit_search(n):\n",
        "    count = 0\n",
        "    while n != 0:\n",
        "        count += n % 2\n",
        "        n //= 2\n",
        "    return count "
      ]
    },
    {
      "cell_type": "code",
      "execution_count": 31,
      "metadata": {},
      "outputs": [
        {
          "name": "stdout",
          "output_type": "stream",
          "text": [
            "Тест пройден: 152 3\n",
            "Тест пройден: 32 1\n",
            "Тест пройден: 31 5\n",
            "Тест пройден: 75 4\n",
            "Тест пройден: 123456789 16\n"
          ]
        }
      ],
      "source": [
        "def single_bit_search_test(n, count):\n",
        "    if single_bit_search(n) == count:\n",
        "        print(\"Тест пройден:\", n, count)\n",
        "    else:\n",
        "        print(\"Тест не пройден:\", n) \n",
        "        print(\"Было:\", single_bit_search(n))\n",
        "        print(\"Должно быть:\", count)\n",
        "\n",
        "single_bit_search_test(152, 3)\n",
        "single_bit_search_test(32, 1)\n",
        "single_bit_search_test(31, 5)\n",
        "single_bit_search_test(75, 4)\n",
        "single_bit_search_test(123456789, 16)"
      ]
    },
    {
      "cell_type": "markdown",
      "metadata": {
        "id": "26dDUz-Ae17N"
      },
      "source": [
        "# Задача 4\n",
        "Написать функцию, которая принимает положительное число. Функция должна вернуть то,\n",
        "сколько раз необходимо перемножать цифры числа или результат перемножения, чтобы\n",
        "получилось число состоящее из одной цифры.\n",
        "Например, для входного числа:\n",
        "· 39 функция должна вернуть 3, так как 3*9=27 => 2*7=14 => 1*4=4\n",
        "· 4 функция должна вернуть 0, так как число уже состоит из одной цифры\n",
        "· 999 функция должна вернуть 4, так как 9*9*9=729 => 7*2*9=126 => 1*2*6=12 =>\n",
        "1*2=2. Написать тесты для кода"
      ]
    },
    {
      "cell_type": "code",
      "execution_count": 32,
      "metadata": {
        "id": "BH1A_Mgi6i4G"
      },
      "outputs": [],
      "source": [
        "def magic(n):\n",
        "    count = 0\n",
        "    while n >= 10:\n",
        "        result = 1\n",
        "        while n != 0:\n",
        "            result *= n % 10\n",
        "            n //= 10 \n",
        "        n = result \n",
        "        count += 1\n",
        "    return count"
      ]
    },
    {
      "cell_type": "code",
      "execution_count": 33,
      "metadata": {},
      "outputs": [
        {
          "name": "stdout",
          "output_type": "stream",
          "text": [
            "Тест пройден: 39 3\n",
            "Тест пройден: 4 0\n",
            "Тест пройден: 999 4\n",
            "Тест пройден: 1055 1\n",
            "Тест пройден: 111111111 1\n",
            "Тест пройден: 1678936 3\n"
          ]
        }
      ],
      "source": [
        "def magic_test(n, count):\n",
        "    if magic(n) == count:\n",
        "        print(\"Тест пройден:\", n, count)\n",
        "    else:\n",
        "        print(\"Тест не пройден:\", n) \n",
        "        print(\"Было:\", magic(n))\n",
        "        print(\"Должно быть:\", count)\n",
        "\n",
        "magic_test(39, 3)\n",
        "magic_test(4, 0)\n",
        "magic_test(999, 4)\n",
        "magic_test(1055, 1)\n",
        "magic_test(111111111, 1)\n",
        "magic_test(1678936, 3)"
      ]
    },
    {
      "cell_type": "markdown",
      "metadata": {
        "id": "0nS-kIa8g8vd"
      },
      "source": [
        "# Задача 5\n",
        "Написать функцию, которая принимает два целочисленных вектора одинаковой длины и\n",
        "возвращает среднеквадратическое отклонение двух векторов. Написать тесты для кода"
      ]
    },
    {
      "cell_type": "code",
      "execution_count": 1,
      "metadata": {
        "id": "8iphx4LM6xbx"
      },
      "outputs": [],
      "source": [
        "# размерность больше 2 , формуоа без корня \n",
        "def mse(pred, true):\n",
        "    result = 0\n",
        "    for i in range(len(pred)):\n",
        "        result += (true[i] - pred[i]) * (true[i] - pred[i])\n",
        "    return result / len(true)"
      ]
    },
    {
      "cell_type": "code",
      "execution_count": 7,
      "metadata": {},
      "outputs": [
        {
          "name": "stdout",
          "output_type": "stream",
          "text": [
            "Тест пройден: (10, 2) 16\n",
            "Тест пройден: (1, 2) 4\n",
            "Тест пройден: (1, 1) 16\n",
            "Тест пройден: (-1, -1) 4\n",
            "Тест пройден: (-1, -1, -1) 22\n",
            "Тест пройден: (-2, 5, 3, 4) 14\n"
          ]
        }
      ],
      "source": [
        "def mse_test(v1, v2, a):\n",
        "    if mse(v1, v2) == a:\n",
        "        print(\"Тест пройден:\", v1, a)\n",
        "    else:\n",
        "        print(\"Тест не пройден:\", v1) \n",
        "        print(\"Было:\", mse(v1, v2))\n",
        "        print(\"Должно быть:\", a)\n",
        "\n",
        "mse_test((10, 2), (6, -2), 16)\n",
        "mse_test((1, 2), (3, 4), 4)\n",
        "mse_test((1, 1), (5, 5), 16)\n",
        "mse_test((-1, -1), (1, 1), 4)\n",
        "mse_test((-1, -1, -1), (1, 1, 5), 22)\n",
        "mse_test((-2, 5, 3, 4), (2, 7, 1, 2), 14)\n"
      ]
    },
    {
      "cell_type": "markdown",
      "metadata": {
        "id": "vpIPKL439zkw"
      },
      "source": [
        "# Задача 6\n",
        "Написать функцию, принимающая целое положительное число. Функция должна вернуть\n",
        "строку вида “(n1**p1)(n2**p2)…(nk**pk)” представляющая разложение числа на простые\n",
        "множители (если pi == 1, то выводить только ni).\n",
        "Например, для числа 86240 функция должна вернуть “(2**5)(5)(7**2)(11)”. Написать тесты для кода"
      ]
    },
    {
      "cell_type": "code",
      "execution_count": 49,
      "metadata": {
        "id": "pFebmcZk94Jw"
      },
      "outputs": [
        {
          "name": "stdout",
          "output_type": "stream",
          "text": [
            "(2**5)(5)(7**2)(11)\n"
          ]
        }
      ],
      "source": [
        "import math\n",
        "\n",
        "def factorize(n):\n",
        "    i = 2\n",
        "    D = {}\n",
        "    result = ''\n",
        "    while i <= int(math.sqrt(n)):\n",
        "        count = 0\n",
        "        while n % i == 0:\n",
        "            count += 1\n",
        "            n //= i \n",
        "        if count == 1:\n",
        "            result += f'({i})'\n",
        "        elif count > 1:\n",
        "            result += f'({i}**{count})'\n",
        "        i+=1\n",
        "    if n > 1:\n",
        "        result += f'({n})'\n",
        "    return result\n",
        "\n",
        "\n",
        "print(factorize(86240))"
      ]
    },
    {
      "cell_type": "code",
      "execution_count": 55,
      "metadata": {},
      "outputs": [
        {
          "name": "stdout",
          "output_type": "stream",
          "text": [
            "Тест пройден: 86240 (2**5)(5)(7**2)(11)\n",
            "Тест пройден: 32 (2**5)\n",
            "Тест пройден: 137 (137)\n",
            "Тест пройден: 156805 (5)(11)(2851)\n",
            "Тест пройден: 506385 (3**3)(5)(11**2)(31)\n"
          ]
        }
      ],
      "source": [
        "def factorize_test(n, str):\n",
        "    if factorize(n) == str:\n",
        "        print(\"Тест пройден:\", n, str)\n",
        "    else:\n",
        "        print(\"Тест не пройден:\", n) \n",
        "        print(\"Было:\", factorize(n))\n",
        "        print(\"Должно быть:\", str)\n",
        "\n",
        "factorize_test(86240, \"(2**5)(5)(7**2)(11)\")\n",
        "factorize_test(32, \"(2**5)\")\n",
        "factorize_test(137, \"(137)\")\n",
        "factorize_test(156805, \"(5)(11)(2851)\")\n",
        "factorize_test(506385, \"(3**3)(5)(11**2)(31)\")"
      ]
    },
    {
      "cell_type": "markdown",
      "metadata": {
        "id": "ps2s0BudX7A2"
      },
      "source": [
        "# Задача 7\n",
        "Написать функцию, принимающая целое число n, задающее количество кубиков. Функция\n",
        "должна определить, можно ли из данного кол-ва кубиков построить пирамиду, то есть\n",
        "можно ли представить число n как 1^2+2^2+3^2+…+k^2. Если можно, то функция должна\n",
        "вернуть k, иначе строку “It is impossible”. Написать тесты для кода"
      ]
    },
    {
      "cell_type": "code",
      "execution_count": 62,
      "metadata": {
        "id": "3YPjEXxhX_YT"
      },
      "outputs": [],
      "source": [
        "def pyramid(number):\n",
        "    if number <= 0: return False\n",
        "    i = 1\n",
        "    while number > 0:\n",
        "        number -= i * i\n",
        "        i += 1\n",
        "    return number == 0"
      ]
    },
    {
      "cell_type": "code",
      "execution_count": 63,
      "metadata": {},
      "outputs": [
        {
          "name": "stdout",
          "output_type": "stream",
          "text": [
            "Тест пройден: 5 True\n",
            "Тест пройден: 6 False\n",
            "Тест пройден: 0 False\n",
            "Тест пройден: 55 True\n",
            "Тест пройден: 650 True\n"
          ]
        }
      ],
      "source": [
        "def pyramid_test(n, bool):\n",
        "    if pyramid(n) == bool:\n",
        "        print(\"Тест пройден:\", n, bool)\n",
        "    else:\n",
        "        print(\"Тест не пройден:\", n) \n",
        "        print(\"Было:\", pyramid(n))\n",
        "        print(\"Должно быть:\", bool)\n",
        "\n",
        "pyramid_test(5, True)\n",
        "pyramid_test(6, False)\n",
        "pyramid_test(0, False)\n",
        "pyramid_test(55, True)\n",
        "pyramid_test(650, True)"
      ]
    },
    {
      "cell_type": "markdown",
      "metadata": {
        "id": "KeKgmIdAQMEJ"
      },
      "source": [
        "# Задача 8\n",
        "Функция принимает на вход положительное число и определяет является ли оно сбалансированным, т.е. сумма цифр до средних равна сумме цифр после. Средними в случае нечетного числа цифр считать одну цифру, в случае четного - две средних. Написать тесты для кода"
      ]
    },
    {
      "cell_type": "code",
      "execution_count": 1,
      "metadata": {
        "id": "gMAAqtqlQrZt"
      },
      "outputs": [],
      "source": [
        "def check_balance(n):\n",
        "    k = len(str(n))\n",
        "    if k % 2 == 1:\n",
        "        a = sum([int(i) for i in str(n)[:(k-1)//2]])\n",
        "        b = sum([int(i) for i in str(n)[(k+1)//2:]])\n",
        "    else:\n",
        "        a = sum([int(i) for i in str(n)[:(k-2)//2]])\n",
        "        b = sum([int(i) for i in str(n)[(k+2)//2:]])\n",
        "    if a == b:\n",
        "        return True\n",
        "    else:\n",
        "        return False "
      ]
    },
    {
      "cell_type": "code",
      "execution_count": 2,
      "metadata": {},
      "outputs": [
        {
          "name": "stdout",
          "output_type": "stream",
          "text": [
            "Тест пройден: 505 True\n",
            "Тест пройден: 63718 True\n",
            "Тест пройден: 543727 True\n",
            "Тест пройден: 55 True\n",
            "Тест пройден: 650 False\n",
            "Тест пройден: 651444 False\n",
            "Тест пройден: 174677 False\n"
          ]
        }
      ],
      "source": [
        "def check_balance_test(n, bool):\n",
        "    if check_balance(n) == bool:\n",
        "        print(\"Тест пройден:\", n, bool)\n",
        "    else:\n",
        "        print(\"Тест не пройден:\", n) \n",
        "        print(\"Было:\", check_balance(n))\n",
        "        print(\"Должно быть:\", bool)\n",
        "\n",
        "check_balance_test(505, True)\n",
        "check_balance_test(63718, True)\n",
        "check_balance_test(543727, True)\n",
        "check_balance_test(55, True)\n",
        "check_balance_test(650, False)\n",
        "check_balance_test(651444, False)\n",
        "check_balance_test(174677, False)"
      ]
    }
  ],
  "metadata": {
    "colab": {
      "provenance": []
    },
    "kernelspec": {
      "display_name": "Python 3",
      "name": "python3"
    },
    "language_info": {
      "codemirror_mode": {
        "name": "ipython",
        "version": 3
      },
      "file_extension": ".py",
      "mimetype": "text/x-python",
      "name": "python",
      "nbconvert_exporter": "python",
      "pygments_lexer": "ipython3",
      "version": "3.12.6"
    }
  },
  "nbformat": 4,
  "nbformat_minor": 0
}
